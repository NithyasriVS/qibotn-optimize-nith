{
 "cells": [
  {
   "cell_type": "markdown",
   "metadata": {},
   "source": [
    "# Quadratic Assignment Problem (QAP)"
   ]
  },
  {
   "cell_type": "markdown",
   "metadata": {},
   "source": [
    "In this notebook, we will see how the Qaudratic Assignment Problem (QAP) can be solved with Quantum Approximate Optimization Algorithm (QAOA) in the qibotn backend on qibo. The QAP formulation has been taken from Qibo Applications and in this notebook implemented using the tensor networks based QAOA simulation. "
   ]
  },
  {
   "cell_type": "code",
   "execution_count": null,
   "metadata": {
    "vscode": {
     "languageId": "plaintext"
    }
   },
   "outputs": [],
   "source": [
    "import numpy as np\n",
    "\n",
    "from qap import qubo_qap, qubo_qap_penalty, qubo_qap_feasibility, qubo_qap_energy, hamiltonian_qap\n",
    "\n",
    "def load_qap(filename):\n",
    "    \"\"\"Load qap problem from a file\n",
    "\n",
    "    The file format is compatible with the one used in QAPLIB\n",
    "\n",
    "    \"\"\"\n",
    "\n",
    "    with open(filename, 'r') as fh:\n",
    "        n = int(fh.readline())\n",
    "\n",
    "        numbers = [float(n) for n in fh.read().split()]\n",
    "\n",
    "        data = np.asarray(numbers).reshape(2, n, n)\n",
    "        f = data[1]\n",
    "        d = data[0]\n",
    "\n",
    "    i = range(len(f))\n",
    "    f[i, i] = 0\n",
    "    d[i, i] = 0\n",
    "\n",
    "    return f, d"
   ]
  },
  {
   "cell_type": "markdown",
   "metadata": {},
   "source": [
    "#### Load QAP problem from a file"
   ]
  },
  {
   "cell_type": "code",
   "execution_count": null,
   "metadata": {
    "vscode": {
     "languageId": "plaintext"
    }
   },
   "outputs": [],
   "source": [
    "F, D = load_qap('tiny04a.dat')\n",
    "print(f'The QAP instance is:')\n",
    "print(F)\n",
    "print(D)"
   ]
  },
  {
   "cell_type": "markdown",
   "metadata": {},
   "source": [
    "#### Calculate the Penalty"
   ]
  },
  {
   "cell_type": "code",
   "execution_count": null,
   "metadata": {
    "vscode": {
     "languageId": "plaintext"
    }
   },
   "outputs": [],
   "source": [
    "penalty = qubo_qap_penalty((F, D))\n",
    "print(f'The penalty is {penalty}')"
   ]
  },
  {
   "cell_type": "markdown",
   "metadata": {},
   "source": [
    "#### Forumate the QUBO"
   ]
  },
  {
   "cell_type": "code",
   "execution_count": null,
   "metadata": {
    "vscode": {
     "languageId": "plaintext"
    }
   },
   "outputs": [],
   "source": [
    "linear, quadratic, offset = qubo_qap((F, D), penalty=penalty)\n",
    "print(f'linear: {linear}')\n",
    "print()\n",
    "print(f'quadratic: {quadratic}')\n",
    "print()\n",
    "print(f'offset: {offset}\\n')"
   ]
  },
  {
   "cell_type": "markdown",
   "metadata": {},
   "source": [
    "#### Generate a random solution and check its feasibility"
   ]
  },
  {
   "cell_type": "markdown",
   "metadata": {},
   "source": [
    "rng = np.random.default_rng(seed=1234)\n",
    "random_solution = {i: rng.integers(2) for i in range(F.size)}\n",
    "print(f'The random solution is {random_solution}\\n')"
   ]
  },
  {
   "cell_type": "code",
   "execution_count": null,
   "metadata": {
    "vscode": {
     "languageId": "plaintext"
    }
   },
   "outputs": [],
   "source": [
    "feasibility = qubo_qap_feasibility((F, D), random_solution)\n",
    "print(f'The feasibility of the random solution is {feasibility}\\n')"
   ]
  },
  {
   "cell_type": "markdown",
   "metadata": {},
   "source": [
    "#### Generate a feasible solution and check its feasibility"
   ]
  },
  {
   "cell_type": "code",
   "execution_count": null,
   "metadata": {
    "vscode": {
     "languageId": "plaintext"
    }
   },
   "outputs": [],
   "source": [
    "feasible_solution = np.zeros(F.shape)\n",
    "sequence = np.arange(F.shape[0])\n",
    "np.random.shuffle(sequence)\n",
    "for i in range(F.shape[0]):\n",
    "    feasible_solution[i, sequence[i]] = 1\n",
    "feasible_solution = {k:v for k, v in enumerate(feasible_solution.flatten())}\n",
    "print(f'The feasible solution is {feasible_solution}\\n')"
   ]
  },
  {
   "cell_type": "code",
   "execution_count": null,
   "metadata": {
    "vscode": {
     "languageId": "plaintext"
    }
   },
   "outputs": [],
   "source": [
    "feasibility = qubo_qap_feasibility((F, D), feasible_solution)\n",
    "print(f'The feasibility of the feasible solution is {feasibility}\\n')"
   ]
  },
  {
   "cell_type": "markdown",
   "metadata": {},
   "source": [
    "#### Calculate the energy of the feasible solution"
   ]
  },
  {
   "cell_type": "code",
   "execution_count": null,
   "metadata": {
    "vscode": {
     "languageId": "plaintext"
    }
   },
   "outputs": [],
   "source": [
    "energy = qubo_qap_energy((F,D), feasible_solution)\n",
    "print(f'The energy of the feasible solution is {energy}')"
   ]
  },
  {
   "cell_type": "markdown",
   "metadata": {},
   "source": [
    "#### Hamiltonian"
   ]
  },
  {
   "cell_type": "code",
   "execution_count": null,
   "metadata": {
    "vscode": {
     "languageId": "plaintext"
    }
   },
   "outputs": [],
   "source": [
    "ham = hamiltonian_qap((F, D), dense=False)"
   ]
  },
  {
   "cell_type": "markdown",
   "metadata": {},
   "source": [
    "##### Solve the Hamiltonian with QAOA"
   ]
  },
  {
   "cell_type": "markdown",
   "metadata": {},
   "source": [
    "import qibo\n",
    "from qibo import Circuit\n",
    "\n",
    "computation_settings = {\n",
    "    \"MPI_enabled\": False,\n",
    "    \"MPS_enabled\": {\n",
    "        \"qr_method\": False,\n",
    "        \"svd_method\": {\n",
    "            \"partition\": \"UV\",\n",
    "            \"abs_cutoff\": 1e-12,\n",
    "        },\n",
    "    },\n",
    "    \"NCCL_enabled\": False,\n",
    "    \"expectation_enabled\": False,\n",
    "    \"QAOA_execute\": {\n",
    "        \"ham_cost\": ham,\n",
    "        \"ham_mixer\": None,\n",
    "        \"circ_depth\": 5,\n",
    "        \"gamma\": 2,\n",
    "        \"beta\": None \n",
    "    }\n",
    "}\n",
    "\n",
    "qibo.set_backend(backend=\"qibotn\", platform=\"cutensornet\", runcard=computation_settings)\n",
    "\n",
    "c = Circuit(nqubits)\n",
    "\n",
    "# uniform superposition state preparation circuit\n",
    "for i in range(0, nqubits):\n",
    "    c.add(gates.H(i))\n",
    "\n",
    "result = c()\n",
    "\n",
    "print(result.state())"
   ]
  },
  {
   "cell_type": "markdown",
   "metadata": {},
   "source": []
  }
 ],
 "metadata": {
  "language_info": {
   "name": "python"
  }
 },
 "nbformat": 4,
 "nbformat_minor": 2
}
